{
 "cells": [
  {
   "cell_type": "code",
   "execution_count": 23,
   "metadata": {
    "collapsed": true
   },
   "outputs": [],
   "source": [
    "from gtts import gTTS\n",
    "tts = gTTS(text='Se ha detectado más de una persona, inténtelo de nuevo con una persona sólo por favor', lang='es', slow=False)\n",
    "tts = gTTS(text='There appears to be more than one person, try again with one person only please', lang='en', slow=False)\n",
    "tts = gTTS(text='ha sido guardado correctamente', lang='es', slow=False)\n",
    "tts = gTTS(text='has been saved correctly', lang='en', slow=False)\n",
    "tts = gTTS(text='diga el nombre de la persona detectada o cancelar después del pitido por favor', lang='es', slow=False)\n",
    "tts = gTTS(text='say the name of the detected person after the beep please', lang='en', slow=False)\n",
    "tts = gTTS(text='guardando', lang='es', slow=False)\n",
    "tts = gTTS(text='saving', lang='en', slow=False)\n",
    "tts = gTTS(text='un momento por favor', lang='es', slow=False)\n",
    "tts = gTTS(text='un moment please', lang='en', slow=False)\n",
    "tts = gTTS(text='lo siento, no he entendido bien', lang='es', slow=False)\n",
    "tts = gTTS(text='sorry, I did´t catch that', lang='en', slow=False)\n",
    "tts = gTTS(text='say the name of the detected person or cancel after the beep please', lang='en', slow=False)\n",
    "tts = gTTS(text='cancelado', lang='es', slow=False)\n",
    "tts = gTTS(text='canceled', lang='en', slow=False)\n",
    "tts.save(\"../project/lang/en/speech/canceled.mp3\")"
   ]
  },
  {
   "cell_type": "code",
   "execution_count": 25,
   "metadata": {
    "collapsed": false
   },
   "outputs": [],
   "source": [
    "words = ['man', 'woman', 'angry', 'disgust', 'happy', 'neutral', 'sad', 'surprise']\n",
    "words_es_h = ['hombre', 'mujer', 'enfadado', 'asqueado', 'contento', 'neutral', 'triste', 'sorprendido']\n",
    "words_es_m = ['hombre', 'mujer', 'enfadada', 'asqueada', 'contenta', 'neutral', 'triste', 'sorprendida']\n",
    "\n",
    "for i in range(len(words)):\n",
    "    tts = gTTS(text=words[i], lang='en', slow=False)\n",
    "    tts.save(\"en/\" + words[i] + \".wav\")\n",
    "    tts = gTTS(text=words_es_h[i], lang='es', slow=False)\n",
    "    tts.save(\"esh/\" + words[i] + \".wav\")\n",
    "    tts = gTTS(text=words_es_m[i], lang='es', slow=False)\n",
    "    tts.save(\"esm/\" + words[i] + \".wav\")\n",
    "    "
   ]
  },
  {
   "cell_type": "code",
   "execution_count": 22,
   "metadata": {
    "collapsed": true
   },
   "outputs": [],
   "source": [
    "from gtts import gTTS\n",
    "import pygame\n",
    "\n",
    "file = \"prueba tres\"\n",
    "tts = gTTS(text=file, lang='es')\n",
    "tts.save(file+\".mp3\")\n"
   ]
  },
  {
   "cell_type": "code",
   "execution_count": 21,
   "metadata": {
    "collapsed": false
   },
   "outputs": [
    {
     "ename": "NameError",
     "evalue": "name 'ty' is not defined",
     "output_type": "error",
     "traceback": [
      "\u001b[0;31m---------------------------------------------------------------------------\u001b[0m",
      "\u001b[0;31mNameError\u001b[0m                                 Traceback (most recent call last)",
      "\u001b[0;32m<ipython-input-21-d2a622b2ab16>\u001b[0m in \u001b[0;36m<module>\u001b[0;34m()\u001b[0m\n\u001b[1;32m      7\u001b[0m \u001b[0mpygame\u001b[0m\u001b[1;33m.\u001b[0m\u001b[0mmixer\u001b[0m\u001b[1;33m.\u001b[0m\u001b[0minit\u001b[0m\u001b[1;33m(\u001b[0m\u001b[1;33m)\u001b[0m\u001b[1;33m\u001b[0m\u001b[0m\n\u001b[1;32m      8\u001b[0m \u001b[0msong\u001b[0m \u001b[1;33m=\u001b[0m \u001b[0mpygame\u001b[0m\u001b[1;33m.\u001b[0m\u001b[0mmixer\u001b[0m\u001b[1;33m.\u001b[0m\u001b[0mmusic\u001b[0m\u001b[1;33m.\u001b[0m\u001b[0mload\u001b[0m\u001b[1;33m(\u001b[0m\u001b[0mfile\u001b[0m\u001b[1;33m+\u001b[0m\u001b[1;34m\".mp3\"\u001b[0m\u001b[1;33m)\u001b[0m\u001b[1;33m\u001b[0m\u001b[0m\n\u001b[0;32m----> 9\u001b[0;31m \u001b[0mprint\u001b[0m\u001b[1;33m(\u001b[0m\u001b[0mty\u001b[0m\u001b[1;33m)\u001b[0m\u001b[1;33m\u001b[0m\u001b[0m\n\u001b[0m\u001b[1;32m     10\u001b[0m \u001b[0mpygame\u001b[0m\u001b[1;33m.\u001b[0m\u001b[0mmixer\u001b[0m\u001b[1;33m.\u001b[0m\u001b[0mmusic\u001b[0m\u001b[1;33m.\u001b[0m\u001b[0mqueue\u001b[0m\u001b[1;33m(\u001b[0m\u001b[0mfile\u001b[0m\u001b[1;33m+\u001b[0m\u001b[1;34m\".mp3\"\u001b[0m\u001b[1;33m)\u001b[0m\u001b[1;33m\u001b[0m\u001b[0m\n\u001b[1;32m     11\u001b[0m \u001b[0mpygame\u001b[0m\u001b[1;33m.\u001b[0m\u001b[0mmixer\u001b[0m\u001b[1;33m.\u001b[0m\u001b[0mmusic\u001b[0m\u001b[1;33m.\u001b[0m\u001b[0mplay\u001b[0m\u001b[1;33m(\u001b[0m\u001b[1;33m)\u001b[0m\u001b[1;33m\u001b[0m\u001b[0m\n",
      "\u001b[0;31mNameError\u001b[0m: name 'ty' is not defined"
     ]
    }
   ],
   "source": [
    "from gtts import gTTS\n",
    "import pygame\n",
    "\n",
    "file = \"prueba tres\"\n",
    "\n",
    "pygame.mixer.init()\n",
    "song = pygame.mixer.music.load(file+\".mp3\")\n",
    "print(ty)\n",
    "pygame.mixer.music.queue(file+\".mp3\")\n",
    "pygame.mixer.music.play()\n",
    "pygame.mixer.time.sleep(2)\n",
    "pygame.mixer.music.stop()\n",
    "\n"
   ]
  },
  {
   "cell_type": "code",
   "execution_count": 7,
   "metadata": {
    "collapsed": false
   },
   "outputs": [
    {
     "name": "stdout",
     "output_type": "stream",
     "text": [
      "the song ended!\n"
     ]
    },
    {
     "ename": "KeyboardInterrupt",
     "evalue": "",
     "output_type": "error",
     "traceback": [
      "\u001b[0;31m---------------------------------------------------------------------------\u001b[0m",
      "\u001b[0;31mKeyboardInterrupt\u001b[0m                         Traceback (most recent call last)",
      "\u001b[0;32m<ipython-input-7-033ed355f519>\u001b[0m in \u001b[0;36m<module>\u001b[0;34m()\u001b[0m\n\u001b[1;32m      7\u001b[0m \u001b[1;33m\u001b[0m\u001b[0m\n\u001b[1;32m      8\u001b[0m \u001b[1;32mwhile\u001b[0m \u001b[1;32mTrue\u001b[0m\u001b[1;33m:\u001b[0m\u001b[1;33m\u001b[0m\u001b[0m\n\u001b[0;32m----> 9\u001b[0;31m     \u001b[1;32mfor\u001b[0m \u001b[0mevent\u001b[0m \u001b[1;32min\u001b[0m \u001b[0mpygame\u001b[0m\u001b[1;33m.\u001b[0m\u001b[0mevent\u001b[0m\u001b[1;33m.\u001b[0m\u001b[0mget\u001b[0m\u001b[1;33m(\u001b[0m\u001b[1;33m)\u001b[0m\u001b[1;33m:\u001b[0m\u001b[1;33m\u001b[0m\u001b[0m\n\u001b[0m\u001b[1;32m     10\u001b[0m         \u001b[1;32mif\u001b[0m \u001b[0mevent\u001b[0m\u001b[1;33m.\u001b[0m\u001b[0mtype\u001b[0m \u001b[1;33m==\u001b[0m \u001b[0mSONG_END\u001b[0m\u001b[1;33m:\u001b[0m\u001b[1;33m\u001b[0m\u001b[0m\n\u001b[1;32m     11\u001b[0m             \u001b[0mprint\u001b[0m\u001b[1;33m(\u001b[0m\u001b[1;34m\"the song ended!\"\u001b[0m\u001b[1;33m)\u001b[0m\u001b[1;33m\u001b[0m\u001b[0m\n",
      "\u001b[0;31mKeyboardInterrupt\u001b[0m: "
     ]
    }
   ],
   "source": [
    "import pygame\n",
    "SONG_END = pygame.USEREVENT + 1\n",
    "pygame.init()\n",
    "pygame.mixer.music.set_endevent(SONG_END)\n",
    "pygame.mixer.music.load('prueba tres.mp3')\n",
    "pygame.mixer.music.play()\n",
    "\n",
    "while True:\n",
    "    for event in pygame.event.get():\n",
    "        if event.type == SONG_END:\n",
    "            print(\"the song ended!\")\n",
    "            "
   ]
  },
  {
   "cell_type": "code",
   "execution_count": 8,
   "metadata": {
    "collapsed": true
   },
   "outputs": [],
   "source": [
    "_songs = ['prueba uno.mp3', 'prueba dos.mp3', 'prueba tres.mp3']\n",
    "_currently_playing_song = None\n",
    "\n",
    "def play_next_song():\n",
    "    global _songs\n",
    "    _songs = _songs[1:] + [_songs[0]] # move current song to the back of the list \n",
    "    pygame.mixer.music.load(_songs[0])\n",
    "    pygame.mixer.music.play()\n",
    "    \n",
    "pygame.init()\n",
    "play_next_song()\n",
    "play_next_song()"
   ]
  },
  {
   "cell_type": "code",
   "execution_count": 19,
   "metadata": {
    "collapsed": false
   },
   "outputs": [
    {
     "name": "stdout",
     "output_type": "stream",
     "text": [
      "done\n"
     ]
    }
   ],
   "source": [
    "import pygame\n",
    "import time     \n",
    "pygame.init()\n",
    "pygame.mixer.music.load('prueba uno.mp3')\n",
    "pygame.mixer.music.play()\n",
    "\n",
    "print(\"done\")"
   ]
  },
  {
   "cell_type": "code",
   "execution_count": 3,
   "metadata": {
    "collapsed": false
   },
   "outputs": [
    {
     "ename": "NameError",
     "evalue": "name '_playsoundWin' is not defined",
     "output_type": "error",
     "traceback": [
      "\u001b[0;31m---------------------------------------------------------------------------\u001b[0m",
      "\u001b[0;31mNameError\u001b[0m                                 Traceback (most recent call last)",
      "\u001b[0;32m<ipython-input-3-aa41ada1d853>\u001b[0m in \u001b[0;36m<module>\u001b[0;34m()\u001b[0m\n\u001b[1;32m      1\u001b[0m \u001b[1;32mfrom\u001b[0m \u001b[0mplaysound\u001b[0m \u001b[1;32mimport\u001b[0m \u001b[0mplaysound\u001b[0m\u001b[1;33m\u001b[0m\u001b[0m\n\u001b[0;32m----> 2\u001b[0;31m \u001b[0m_playsoundWin\u001b[0m\u001b[1;33m(\u001b[0m\u001b[1;34m\"prueba uno.mp3\"\u001b[0m\u001b[1;33m)\u001b[0m\u001b[1;33m\u001b[0m\u001b[0m\n\u001b[0m",
      "\u001b[0;31mNameError\u001b[0m: name '_playsoundWin' is not defined"
     ]
    }
   ],
   "source": [
    "from playsound import playsound\n",
    "playsound(\"prueba uno.mp3\")"
   ]
  },
  {
   "cell_type": "code",
   "execution_count": 1,
   "metadata": {
    "collapsed": false
   },
   "outputs": [
    {
     "ename": "WAVEFormatException",
     "evalue": "AVbin is required to decode compressed media",
     "output_type": "error",
     "traceback": [
      "\u001b[0;31m---------------------------------------------------------------------------\u001b[0m",
      "\u001b[0;31mWAVEFormatException\u001b[0m                       Traceback (most recent call last)",
      "\u001b[0;32m<ipython-input-1-07444f99dea0>\u001b[0m in \u001b[0;36m<module>\u001b[0;34m()\u001b[0m\n\u001b[1;32m      1\u001b[0m \u001b[1;32mimport\u001b[0m \u001b[0mpyglet\u001b[0m\u001b[1;33m\u001b[0m\u001b[0m\n\u001b[1;32m      2\u001b[0m \u001b[1;33m\u001b[0m\u001b[0m\n\u001b[0;32m----> 3\u001b[0;31m \u001b[0msong\u001b[0m \u001b[1;33m=\u001b[0m \u001b[0mpyglet\u001b[0m\u001b[1;33m.\u001b[0m\u001b[0mmedia\u001b[0m\u001b[1;33m.\u001b[0m\u001b[0mload\u001b[0m\u001b[1;33m(\u001b[0m\u001b[1;34m'prueba uno.mp3'\u001b[0m\u001b[1;33m)\u001b[0m\u001b[1;33m\u001b[0m\u001b[0m\n\u001b[0m\u001b[1;32m      4\u001b[0m \u001b[0msong\u001b[0m\u001b[1;33m.\u001b[0m\u001b[0mplay\u001b[0m\u001b[1;33m(\u001b[0m\u001b[1;33m)\u001b[0m\u001b[1;33m\u001b[0m\u001b[0m\n\u001b[1;32m      5\u001b[0m \u001b[0mpyglet\u001b[0m\u001b[1;33m.\u001b[0m\u001b[0mapp\u001b[0m\u001b[1;33m.\u001b[0m\u001b[0mrun\u001b[0m\u001b[1;33m(\u001b[0m\u001b[1;33m)\u001b[0m\u001b[1;33m\u001b[0m\u001b[0m\n",
      "\u001b[0;32mC:\\Anaconda3\\envs\\carnd\\lib\\site-packages\\pyglet\\media\\__init__.py\u001b[0m in \u001b[0;36mload\u001b[0;34m(filename, file, streaming)\u001b[0m\n\u001b[1;32m   1427\u001b[0m     \u001b[1;33m:\u001b[0m\u001b[0mrtype\u001b[0m\u001b[1;33m:\u001b[0m\u001b[0;31m \u001b[0m\u001b[0;31m`\u001b[0m\u001b[0mSource\u001b[0m\u001b[0;31m`\u001b[0m\u001b[1;33m\u001b[0m\u001b[0m\n\u001b[1;32m   1428\u001b[0m     '''\n\u001b[0;32m-> 1429\u001b[0;31m     \u001b[0msource\u001b[0m \u001b[1;33m=\u001b[0m \u001b[0mget_source_loader\u001b[0m\u001b[1;33m(\u001b[0m\u001b[1;33m)\u001b[0m\u001b[1;33m.\u001b[0m\u001b[0mload\u001b[0m\u001b[1;33m(\u001b[0m\u001b[0mfilename\u001b[0m\u001b[1;33m,\u001b[0m \u001b[0mfile\u001b[0m\u001b[1;33m)\u001b[0m\u001b[1;33m\u001b[0m\u001b[0m\n\u001b[0m\u001b[1;32m   1430\u001b[0m     \u001b[1;32mif\u001b[0m \u001b[1;32mnot\u001b[0m \u001b[0mstreaming\u001b[0m\u001b[1;33m:\u001b[0m\u001b[1;33m\u001b[0m\u001b[0m\n\u001b[1;32m   1431\u001b[0m         \u001b[0msource\u001b[0m \u001b[1;33m=\u001b[0m \u001b[0mStaticSource\u001b[0m\u001b[1;33m(\u001b[0m\u001b[0msource\u001b[0m\u001b[1;33m)\u001b[0m\u001b[1;33m\u001b[0m\u001b[0m\n",
      "\u001b[0;32mC:\\Anaconda3\\envs\\carnd\\lib\\site-packages\\pyglet\\media\\__init__.py\u001b[0m in \u001b[0;36mload\u001b[0;34m(self, filename, file)\u001b[0m\n\u001b[1;32m   1408\u001b[0m     \u001b[1;32mdef\u001b[0m \u001b[0mload\u001b[0m\u001b[1;33m(\u001b[0m\u001b[0mself\u001b[0m\u001b[1;33m,\u001b[0m \u001b[0mfilename\u001b[0m\u001b[1;33m,\u001b[0m \u001b[0mfile\u001b[0m\u001b[1;33m)\u001b[0m\u001b[1;33m:\u001b[0m\u001b[1;33m\u001b[0m\u001b[0m\n\u001b[1;32m   1409\u001b[0m         \u001b[1;32mfrom\u001b[0m \u001b[1;33m.\u001b[0m \u001b[1;32mimport\u001b[0m \u001b[0mriff\u001b[0m\u001b[1;33m\u001b[0m\u001b[0m\n\u001b[0;32m-> 1410\u001b[0;31m         \u001b[1;32mreturn\u001b[0m \u001b[0mriff\u001b[0m\u001b[1;33m.\u001b[0m\u001b[0mWaveSource\u001b[0m\u001b[1;33m(\u001b[0m\u001b[0mfilename\u001b[0m\u001b[1;33m,\u001b[0m \u001b[0mfile\u001b[0m\u001b[1;33m)\u001b[0m\u001b[1;33m\u001b[0m\u001b[0m\n\u001b[0m\u001b[1;32m   1411\u001b[0m \u001b[1;33m\u001b[0m\u001b[0m\n\u001b[1;32m   1412\u001b[0m \u001b[1;32mdef\u001b[0m \u001b[0mload\u001b[0m\u001b[1;33m(\u001b[0m\u001b[0mfilename\u001b[0m\u001b[1;33m,\u001b[0m \u001b[0mfile\u001b[0m\u001b[1;33m=\u001b[0m\u001b[1;32mNone\u001b[0m\u001b[1;33m,\u001b[0m \u001b[0mstreaming\u001b[0m\u001b[1;33m=\u001b[0m\u001b[1;32mTrue\u001b[0m\u001b[1;33m)\u001b[0m\u001b[1;33m:\u001b[0m\u001b[1;33m\u001b[0m\u001b[0m\n",
      "\u001b[0;32mC:\\Anaconda3\\envs\\carnd\\lib\\site-packages\\pyglet\\media\\riff.py\u001b[0m in \u001b[0;36m__init__\u001b[0;34m(self, filename, file)\u001b[0m\n\u001b[1;32m    199\u001b[0m             \u001b[1;32melse\u001b[0m\u001b[1;33m:\u001b[0m\u001b[1;33m\u001b[0m\u001b[0m\n\u001b[1;32m    200\u001b[0m                 raise WAVEFormatException(\n\u001b[0;32m--> 201\u001b[0;31m                     'AVbin is required to decode compressed media')\n\u001b[0m\u001b[1;32m    202\u001b[0m \u001b[1;33m\u001b[0m\u001b[0m\n\u001b[1;32m    203\u001b[0m         \u001b[1;32mif\u001b[0m \u001b[0mformat\u001b[0m\u001b[1;33m.\u001b[0m\u001b[0mwFormatTag\u001b[0m \u001b[1;33m!=\u001b[0m \u001b[0mWAVE_FORMAT_PCM\u001b[0m\u001b[1;33m:\u001b[0m\u001b[1;33m\u001b[0m\u001b[0m\n",
      "\u001b[0;31mWAVEFormatException\u001b[0m: AVbin is required to decode compressed media"
     ]
    }
   ],
   "source": [
    "import pyglet\n",
    "\n",
    "song = pyglet.media.load('prueba uno.mp3')\n",
    "song.play()\n",
    "pyglet.app.run()"
   ]
  },
  {
   "cell_type": "code",
   "execution_count": 3,
   "metadata": {
    "collapsed": false
   },
   "outputs": [
    {
     "data": {
      "text/html": [
       "\n",
       "                <audio controls=\"controls\" >\n",
       "                    <source src=\"data:audio/mpeg;base64,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\" type=\"audio/mpeg\" />\n",
       "                    Your browser does not support the audio element.\n",
       "                </audio>\n",
       "              "
      ],
      "text/plain": [
       "<IPython.lib.display.Audio object>"
      ]
     },
     "execution_count": 3,
     "metadata": {},
     "output_type": "execute_result"
    }
   ],
   "source": [
    "import IPython.display as ipd\n",
    "ipd.Audio(filename='prueba uno.mp3')"
   ]
  },
  {
   "cell_type": "code",
   "execution_count": 1,
   "metadata": {
    "collapsed": false
   },
   "outputs": [
    {
     "ename": "SyntaxError",
     "evalue": "invalid syntax (<ipython-input-1-f198b1506972>, line 1)",
     "output_type": "error",
     "traceback": [
      "\u001b[0;36m  File \u001b[0;32m\"<ipython-input-1-f198b1506972>\"\u001b[0;36m, line \u001b[0;32m1\u001b[0m\n\u001b[0;31m    google_speech -l en stall -e delay 0.5 overdrive 20 repeat 5 speed 0.9 gain -5\u001b[0m\n\u001b[0m                      ^\u001b[0m\n\u001b[0;31mSyntaxError\u001b[0m\u001b[0;31m:\u001b[0m invalid syntax\n"
     ]
    }
   ],
   "source": [
    "google_speech -l en stall -e delay 0.5 overdrive 20 repeat 5 speed 0.9 gain -5"
   ]
  },
  {
   "cell_type": "code",
   "execution_count": 4,
   "metadata": {
    "collapsed": false
   },
   "outputs": [
    {
     "data": {
      "text/plain": [
       "1"
      ]
     },
     "execution_count": 4,
     "metadata": {},
     "output_type": "execute_result"
    }
   ],
   "source": [
    "import win32com.client as wincl\n",
    "speak = wincl.Dispatch(\"SAPI.SpVoice\")\n",
    "speak.Speak(\"Josu\")\n",
    "speak.Speak(\"aaaa\")"
   ]
  },
  {
   "cell_type": "code",
   "execution_count": 8,
   "metadata": {
    "collapsed": false
   },
   "outputs": [
    {
     "ename": "ResourceNotFoundException",
     "evalue": "Resource \"./prueba uno.mp3\" was not found on the path.  Ensure that the filename has the correct captialisation.",
     "output_type": "error",
     "traceback": [
      "\u001b[0;31m---------------------------------------------------------------------------\u001b[0m",
      "\u001b[0;31mKeyError\u001b[0m                                  Traceback (most recent call last)",
      "\u001b[0;32mC:\\Anaconda3\\envs\\carnd\\lib\\site-packages\\pyglet\\resource.py\u001b[0m in \u001b[0;36mmedia\u001b[0;34m(self, name, streaming)\u001b[0m\n\u001b[1;32m    623\u001b[0m         \u001b[1;32mtry\u001b[0m\u001b[1;33m:\u001b[0m\u001b[1;33m\u001b[0m\u001b[0m\n\u001b[0;32m--> 624\u001b[0;31m             \u001b[0mlocation\u001b[0m \u001b[1;33m=\u001b[0m \u001b[0mself\u001b[0m\u001b[1;33m.\u001b[0m\u001b[0m_index\u001b[0m\u001b[1;33m[\u001b[0m\u001b[0mname\u001b[0m\u001b[1;33m]\u001b[0m\u001b[1;33m\u001b[0m\u001b[0m\n\u001b[0m\u001b[1;32m    625\u001b[0m             \u001b[1;32mif\u001b[0m \u001b[0misinstance\u001b[0m\u001b[1;33m(\u001b[0m\u001b[0mlocation\u001b[0m\u001b[1;33m,\u001b[0m \u001b[0mFileLocation\u001b[0m\u001b[1;33m)\u001b[0m\u001b[1;33m:\u001b[0m\u001b[1;33m\u001b[0m\u001b[0m\n",
      "\u001b[0;31mKeyError\u001b[0m: './prueba uno.mp3'",
      "\nDuring handling of the above exception, another exception occurred:\n",
      "\u001b[0;31mResourceNotFoundException\u001b[0m                 Traceback (most recent call last)",
      "\u001b[0;32m<ipython-input-8-5865a5a8a148>\u001b[0m in \u001b[0;36m<module>\u001b[0;34m()\u001b[0m\n\u001b[1;32m      1\u001b[0m \u001b[1;32mimport\u001b[0m \u001b[0mpyglet\u001b[0m\u001b[1;33m\u001b[0m\u001b[0m\n\u001b[1;32m      2\u001b[0m \u001b[1;33m\u001b[0m\u001b[0m\n\u001b[0;32m----> 3\u001b[0;31m \u001b[0mmusic\u001b[0m \u001b[1;33m=\u001b[0m \u001b[0mpyglet\u001b[0m\u001b[1;33m.\u001b[0m\u001b[0mresource\u001b[0m\u001b[1;33m.\u001b[0m\u001b[0mmedia\u001b[0m\u001b[1;33m(\u001b[0m\u001b[1;34m\"./prueba uno.mp3\"\u001b[0m\u001b[1;33m)\u001b[0m\u001b[1;33m\u001b[0m\u001b[0m\n\u001b[0m\u001b[1;32m      4\u001b[0m \u001b[0mmusic\u001b[0m\u001b[1;33m.\u001b[0m\u001b[0mplay\u001b[0m\u001b[1;33m(\u001b[0m\u001b[1;33m)\u001b[0m\u001b[1;33m\u001b[0m\u001b[0m\n\u001b[1;32m      5\u001b[0m \u001b[1;33m\u001b[0m\u001b[0m\n",
      "\u001b[0;32mC:\\Anaconda3\\envs\\carnd\\lib\\site-packages\\pyglet\\resource.py\u001b[0m in \u001b[0;36mmedia\u001b[0;34m(self, name, streaming)\u001b[0m\n\u001b[1;32m    632\u001b[0m                 \u001b[1;32mreturn\u001b[0m \u001b[0mmedia\u001b[0m\u001b[1;33m.\u001b[0m\u001b[0mload\u001b[0m\u001b[1;33m(\u001b[0m\u001b[0mname\u001b[0m\u001b[1;33m,\u001b[0m \u001b[0mfile\u001b[0m\u001b[1;33m=\u001b[0m\u001b[0mfile\u001b[0m\u001b[1;33m,\u001b[0m \u001b[0mstreaming\u001b[0m\u001b[1;33m=\u001b[0m\u001b[0mstreaming\u001b[0m\u001b[1;33m)\u001b[0m\u001b[1;33m\u001b[0m\u001b[0m\n\u001b[1;32m    633\u001b[0m         \u001b[1;32mexcept\u001b[0m \u001b[0mKeyError\u001b[0m\u001b[1;33m:\u001b[0m\u001b[1;33m\u001b[0m\u001b[0m\n\u001b[0;32m--> 634\u001b[0;31m             \u001b[1;32mraise\u001b[0m \u001b[0mResourceNotFoundException\u001b[0m\u001b[1;33m(\u001b[0m\u001b[0mname\u001b[0m\u001b[1;33m)\u001b[0m\u001b[1;33m\u001b[0m\u001b[0m\n\u001b[0m\u001b[1;32m    635\u001b[0m \u001b[1;33m\u001b[0m\u001b[0m\n\u001b[1;32m    636\u001b[0m     \u001b[1;32mdef\u001b[0m \u001b[0mtexture\u001b[0m\u001b[1;33m(\u001b[0m\u001b[0mself\u001b[0m\u001b[1;33m,\u001b[0m \u001b[0mname\u001b[0m\u001b[1;33m)\u001b[0m\u001b[1;33m:\u001b[0m\u001b[1;33m\u001b[0m\u001b[0m\n",
      "\u001b[0;31mResourceNotFoundException\u001b[0m: Resource \"./prueba uno.mp3\" was not found on the path.  Ensure that the filename has the correct captialisation."
     ]
    }
   ],
   "source": [
    "import pyglet\n",
    "\n",
    "music = pyglet.resource.media(\"prueba uno.mp3\")\n",
    "music.play()\n",
    "\n",
    "pyglet.app.run()"
   ]
  },
  {
   "cell_type": "code",
   "execution_count": 6,
   "metadata": {
    "collapsed": false
   },
   "outputs": [
    {
     "name": "stdout",
     "output_type": "stream",
     "text": [
      "C:\\Users\\Josu\\OneDrive\\ESTUDIOS\\UNIR\\Semestre 2\\TFM\\Code\\face-emotion-recognition\n"
     ]
    }
   ],
   "source": [
    "import os\n",
    "print(os.getcwd())"
   ]
  },
  {
   "cell_type": "code",
   "execution_count": 9,
   "metadata": {
    "collapsed": false
   },
   "outputs": [
    {
     "data": {
      "text/plain": [
       "1"
      ]
     },
     "execution_count": 9,
     "metadata": {},
     "output_type": "execute_result"
    }
   ],
   "source": [
    "from gtts import gTTS\n",
    "import os\n",
    "tts = gTTS(text=\"This is the pc speaking\", lang='en')\n",
    "tts.save(\"pcvoice.mp3\")\n",
    "# this is for linux\n",
    "os.system(\"mpg321 pcvoice.mp3\")"
   ]
  },
  {
   "cell_type": "code",
   "execution_count": 1,
   "metadata": {
    "collapsed": false
   },
   "outputs": [
    {
     "name": "stdout",
     "output_type": "stream",
     "text": [
      "Music file prueba uno.mp3 loaded!\n",
      "Music file prueba uno.mp3 loaded!\n"
     ]
    }
   ],
   "source": [
    "import pygame as pg\n",
    "def play_music(music_file, volume=0.8):\n",
    "    '''\n",
    "    stream music with mixer.music module in a blocking manner\n",
    "    this will stream the sound from disk while playing\n",
    "    '''\n",
    "    # set up the mixer\n",
    "    freq = 44100     # audio CD quality\n",
    "    bitsize = -16    # unsigned 16 bit\n",
    "    channels = 2     # 1 is mono, 2 is stereo\n",
    "    buffer = 2048    # number of samples (experiment to get best sound)\n",
    "    pg.mixer.init()\n",
    "    # volume value 0.0 to 1.0\n",
    "    pg.mixer.music.set_volume(volume)\n",
    "    clock = pg.time.Clock()\n",
    "    try:\n",
    "        pg.mixer.music.load(music_file)\n",
    "        print(\"Music file {} loaded!\".format(music_file))\n",
    "    except pg.error:\n",
    "        print(\"File {} not found! ({})\".format(music_file, pg.get_error()))\n",
    "        return\n",
    "    pg.mixer.music.play()\n",
    "    while pg.mixer.music.get_busy():\n",
    "        # check if playback has finished\n",
    "        clock.tick(30)\n",
    "# pick a MP3 music file you have in the working folder\n",
    "# otherwise give the full file path\n",
    "# (try other sound file formats too)\n",
    "music_file = \"prueba uno.mp3\"\n",
    "# optional volume 0 to 1.0\n",
    "volume = 0.8\n",
    "play_music(music_file, volume)\n",
    "play_music(music_file, volume)"
   ]
  },
  {
   "cell_type": "code",
   "execution_count": null,
   "metadata": {
    "collapsed": true
   },
   "outputs": [],
   "source": []
  }
 ],
 "metadata": {
  "anaconda-cloud": {},
  "kernelspec": {
   "display_name": "Python [default]",
   "language": "python",
   "name": "python3"
  },
  "language_info": {
   "codemirror_mode": {
    "name": "ipython",
    "version": 3
   },
   "file_extension": ".py",
   "mimetype": "text/x-python",
   "name": "python",
   "nbconvert_exporter": "python",
   "pygments_lexer": "ipython3",
   "version": "3.5.2"
  }
 },
 "nbformat": 4,
 "nbformat_minor": 2
}
