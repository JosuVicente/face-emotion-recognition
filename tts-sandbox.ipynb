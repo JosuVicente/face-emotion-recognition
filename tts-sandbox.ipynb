{
 "cells": [
  {
   "cell_type": "code",
   "execution_count": 9,
   "metadata": {
    "collapsed": true
   },
   "outputs": [],
   "source": [
    "from gtts import gTTS\n",
    "tts = gTTS(text='Josu', lang='es', slow=False)\n",
    "tts.save(\"hello.mp3\")"
   ]
  },
  {
   "cell_type": "code",
   "execution_count": 25,
   "metadata": {
    "collapsed": false
   },
   "outputs": [],
   "source": [
    "words = ['man', 'woman', 'angry', 'disgust', 'happy', 'neutral', 'sad', 'surprise']\n",
    "words_es_h = ['hombre', 'mujer', 'enfadado', 'asqueado', 'contento', 'neutral', 'triste', 'sorprendido']\n",
    "words_es_m = ['hombre', 'mujer', 'enfadada', 'asqueada', 'contenta', 'neutral', 'triste', 'sorprendida']\n",
    "\n",
    "for i in range(len(words)):\n",
    "    tts = gTTS(text=words[i], lang='en', slow=False)\n",
    "    tts.save(\"en/\" + words[i] + \".wav\")\n",
    "    tts = gTTS(text=words_es_h[i], lang='es', slow=False)\n",
    "    tts.save(\"esh/\" + words[i] + \".wav\")\n",
    "    tts = gTTS(text=words_es_m[i], lang='es', slow=False)\n",
    "    tts.save(\"esm/\" + words[i] + \".wav\")\n",
    "    "
   ]
  },
  {
   "cell_type": "code",
   "execution_count": null,
   "metadata": {
    "collapsed": true
   },
   "outputs": [],
   "source": []
  }
 ],
 "metadata": {
  "anaconda-cloud": {},
  "kernelspec": {
   "display_name": "Python [default]",
   "language": "python",
   "name": "python3"
  },
  "language_info": {
   "codemirror_mode": {
    "name": "ipython",
    "version": 3
   },
   "file_extension": ".py",
   "mimetype": "text/x-python",
   "name": "python",
   "nbconvert_exporter": "python",
   "pygments_lexer": "ipython3",
   "version": "3.5.2"
  }
 },
 "nbformat": 4,
 "nbformat_minor": 2
}
