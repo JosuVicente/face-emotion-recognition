{
 "cells": [
  {
   "cell_type": "code",
   "execution_count": 1,
   "metadata": {
    "collapsed": true
   },
   "outputs": [],
   "source": [
    "## Notes:\n",
    "#Add these to environment\n",
    "# pip install pyaudio\n",
    "# pip install wave\n",
    "\n",
    "## Library: https://people.csail.mit.edu/hubert/pyaudio/"
   ]
  },
  {
   "cell_type": "code",
   "execution_count": 8,
   "metadata": {
    "collapsed": false
   },
   "outputs": [
    {
     "name": "stdout",
     "output_type": "stream",
     "text": [
      "* recording\n",
      "* done recording\n"
     ]
    }
   ],
   "source": [
    "\"\"\"PyAudio example: Record a few seconds of audio and save to a WAVE file.\"\"\"\n",
    "\n",
    "import pyaudio\n",
    "import wave\n",
    "\n",
    "CHUNK = 1024\n",
    "FORMAT = pyaudio.paInt16\n",
    "CHANNELS = 2\n",
    "RATE = 44100\n",
    "RECORD_SECONDS = 1\n",
    "WAVE_OUTPUT_FILENAME = \"mujer.wav\"\n",
    "\n",
    "p = pyaudio.PyAudio()\n",
    "\n",
    "stream = p.open(format=FORMAT,\n",
    "                channels=CHANNELS,\n",
    "                rate=RATE,\n",
    "                input=True,\n",
    "                frames_per_buffer=CHUNK)\n",
    "\n",
    "print(\"* recording\")\n",
    "\n",
    "frames = []\n",
    "\n",
    "for i in range(0, int(RATE / CHUNK * RECORD_SECONDS)):\n",
    "    data = stream.read(CHUNK)\n",
    "    frames.append(data)\n",
    "\n",
    "print(\"* done recording\")\n",
    "\n",
    "stream.stop_stream()\n",
    "stream.close()\n",
    "p.terminate()\n",
    "\n",
    "wf = wave.open(WAVE_OUTPUT_FILENAME, 'wb')\n",
    "wf.setnchannels(CHANNELS)\n",
    "wf.setsampwidth(p.get_sample_size(FORMAT))\n",
    "wf.setframerate(RATE)\n",
    "wf.writeframes(b''.join(frames))\n",
    "wf.close()"
   ]
  },
  {
   "cell_type": "code",
   "execution_count": 9,
   "metadata": {
    "collapsed": false
   },
   "outputs": [],
   "source": [
    "\"\"\"PyAudio Example: Play a wave file (callback version)\"\"\"\n",
    "\n",
    "import pyaudio\n",
    "import wave\n",
    "import time\n",
    "import sys\n",
    "WAVE_FILENAME = \"mujer.wav\"\n",
    "if len(sys.argv) < 2:\n",
    "    print(\"Plays a wave file.\\n\\nUsage: %s filename.wav\" % WAVE_FILENAME)\n",
    "    sys.exit(-1)\n",
    "\n",
    "wf = wave.open(WAVE_FILENAME, 'rb')\n",
    "\n",
    "p = pyaudio.PyAudio()\n",
    "\n",
    "def callback(in_data, frame_count, time_info, status):\n",
    "    data = wf.readframes(frame_count)\n",
    "    return (data, pyaudio.paContinue)\n",
    "\n",
    "stream = p.open(format=p.get_format_from_width(wf.getsampwidth()),\n",
    "                channels=wf.getnchannels(),\n",
    "                rate=wf.getframerate(),\n",
    "                output=True,\n",
    "                stream_callback=callback)\n",
    "\n",
    "stream.start_stream()\n",
    "\n",
    "while stream.is_active():\n",
    "    time.sleep(0.1)\n",
    "\n",
    "stream.stop_stream()\n",
    "stream.close()\n",
    "wf.close()\n",
    "\n",
    "p.terminate()"
   ]
  },
  {
   "cell_type": "code",
   "execution_count": 1,
   "metadata": {
    "collapsed": false
   },
   "outputs": [
    {
     "ename": "KeyboardInterrupt",
     "evalue": "",
     "output_type": "error",
     "traceback": [
      "\u001b[0;31m---------------------------------------------------------------------------\u001b[0m",
      "\u001b[0;31mKeyboardInterrupt\u001b[0m                         Traceback (most recent call last)",
      "\u001b[0;32m<ipython-input-1-b4b1708b0420>\u001b[0m in \u001b[0;36m<module>\u001b[0;34m()\u001b[0m\n\u001b[1;32m     24\u001b[0m \u001b[1;33m\u001b[0m\u001b[0m\n\u001b[1;32m     25\u001b[0m \u001b[1;32mwhile\u001b[0m \u001b[0mdata\u001b[0m \u001b[1;33m!=\u001b[0m \u001b[1;34m''\u001b[0m\u001b[1;33m:\u001b[0m\u001b[1;33m\u001b[0m\u001b[0m\n\u001b[0;32m---> 26\u001b[0;31m     \u001b[0mstream\u001b[0m\u001b[1;33m.\u001b[0m\u001b[0mwrite\u001b[0m\u001b[1;33m(\u001b[0m\u001b[0mdata\u001b[0m\u001b[1;33m)\u001b[0m\u001b[1;33m\u001b[0m\u001b[0m\n\u001b[0m\u001b[1;32m     27\u001b[0m     \u001b[0mdata\u001b[0m \u001b[1;33m=\u001b[0m \u001b[0mwf\u001b[0m\u001b[1;33m.\u001b[0m\u001b[0mreadframes\u001b[0m\u001b[1;33m(\u001b[0m\u001b[0mCHUNK\u001b[0m\u001b[1;33m)\u001b[0m\u001b[1;33m\u001b[0m\u001b[0m\n\u001b[1;32m     28\u001b[0m \u001b[1;33m\u001b[0m\u001b[0m\n",
      "\u001b[0;32mC:\\Anaconda3\\envs\\mycoda3env\\lib\\site-packages\\pyaudio.py\u001b[0m in \u001b[0;36mwrite\u001b[0;34m(self, frames, num_frames, exception_on_underflow)\u001b[0m\n\u001b[1;32m    584\u001b[0m \u001b[1;33m\u001b[0m\u001b[0m\n\u001b[1;32m    585\u001b[0m         pa.write_stream(self._stream, frames, num_frames,\n\u001b[0;32m--> 586\u001b[0;31m                         exception_on_underflow)\n\u001b[0m\u001b[1;32m    587\u001b[0m \u001b[1;33m\u001b[0m\u001b[0m\n\u001b[1;32m    588\u001b[0m \u001b[1;33m\u001b[0m\u001b[0m\n",
      "\u001b[0;31mKeyboardInterrupt\u001b[0m: "
     ]
    }
   ],
   "source": [
    "\"\"\"PyAudio Example: Play a WAVE file.\"\"\"\n",
    "\n",
    "import pyaudio\n",
    "import wave\n",
    "import sys\n",
    "\n",
    "CHUNK = 1024\n",
    "WAVE_FILENAME = \"output.wav\"\n",
    "\n",
    "if len(sys.argv) < 2:\n",
    "    print(\"Plays a wave file.\\n\\nUsage: %s filename.wav\" % WAVE_FILENAME)\n",
    "    sys.exit(-1)\n",
    "\n",
    "wf = wave.open(WAVE_FILENAME, 'rb')\n",
    "\n",
    "p = pyaudio.PyAudio()\n",
    "\n",
    "stream = p.open(format=p.get_format_from_width(wf.getsampwidth()),\n",
    "                channels=wf.getnchannels(),\n",
    "                rate=wf.getframerate(),\n",
    "                output=True)\n",
    "\n",
    "data = wf.readframes(CHUNK)\n",
    "\n",
    "while data != '':\n",
    "    stream.write(data)\n",
    "    data = wf.readframes(CHUNK)\n",
    "\n",
    "stream.stop_stream()\n",
    "stream.close()\n",
    "\n",
    "p.terminate()"
   ]
  },
  {
   "cell_type": "code",
   "execution_count": null,
   "metadata": {
    "collapsed": true
   },
   "outputs": [],
   "source": [
    "def generate_sample(self, ob, preview):\n",
    "    print(\"* Generating sample...\")\n",
    "    tone_out = array(ob, dtype=int16)\n",
    "\n",
    "    if preview:\n",
    "        print(\"* Previewing audio file...\")\n",
    "\n",
    "        bytestream = tone_out.tobytes()\n",
    "        pya = pyaudio.PyAudio()\n",
    "        stream = pya.open(format=pya.get_format_from_width(width=2), channels=1, rate=OUTPUT_SAMPLE_RATE, output=True)\n",
    "        stream.write(bytestream)\n",
    "        stream.stop_stream()\n",
    "        stream.close()\n",
    "\n",
    "        pya.terminate()\n",
    "        print(\"* Preview completed!\")\n",
    "    else:\n",
    "        write('sound.wav', SAMPLE_RATE, tone_out)\n",
    "        print(\"* Wrote audio file!\")"
   ]
  }
 ],
 "metadata": {
  "anaconda-cloud": {},
  "kernelspec": {
   "display_name": "Python [default]",
   "language": "python",
   "name": "python3"
  },
  "language_info": {
   "codemirror_mode": {
    "name": "ipython",
    "version": 3
   },
   "file_extension": ".py",
   "mimetype": "text/x-python",
   "name": "python",
   "nbconvert_exporter": "python",
   "pygments_lexer": "ipython3",
   "version": "3.5.2"
  }
 },
 "nbformat": 4,
 "nbformat_minor": 1
}
